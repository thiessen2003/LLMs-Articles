{
 "cells": [
  {
   "cell_type": "raw",
   "id": "ceb26b6d-d77d-4a43-8a72-f9758596005e",
   "metadata": {},
   "source": [
    "---\n",
    "title: \"Cracking your internship interview with ChatGPT\"\n",
    "description: \"Using ChatGPT to get (according to him) the optimal answers for internship interviews\"\n",
    "author: \"Gabriel Thiessen\"\n",
    "date: \"3/23/2024\"\n",
    "categories:\n",
    "  - LLMs\n",
    "  - ChatGPT 4.0\n",
    "  - Interview\n",
    "  - Text generation\n",
    "---"
   ]
  },
  {
   "cell_type": "markdown",
   "id": "2a71c0d0-759c-45ff-a3c4-e7a16f2a0339",
   "metadata": {},
   "source": [
    "<img src=\"chatgptinterview.png\" width=\"100%\"/>\n",
    "Prompt: Generate an image of ChatGPT taking an IQ test \n",
    "\n"
   ]
  },
  {
   "cell_type": "markdown",
   "id": "301cf3c8-8d93-4fcb-bc7f-d09fe749bae1",
   "metadata": {},
   "source": [
    "## Internships, internships, internships...\n",
    "\n",
    "If you are a college student like me, I am pretty sure that you are, most of the times (unless you already have an offer) super worried about internships. Usually, you apply to me and never hear back from most, it takes forever to get a response, salaries are not always that great, there are a zillion other people applying to the same position, and, above all, if you get through the first stages of an internship application process, you still have to do interviews.\n",
    "\n",
    "For this blog post, let's leave technical interviews aside and focus on behavioral interviews.\n",
    "\n",
    "\"What could go wrong if I just need to talk about myself?\" A LOT OF THINGS! Behavioral interviews are often way more complicated than they usually seem. Even though you do not have to live code or come up with a marvellous ideas to compute the amount of chocolate cookies that teenagers eat during summer in Idaho for a product management position, it is not easy to synthetize professional, academic, and personal information about you in a good and practical way for an interviewer while being stressed out. Even though there is no magical recipe, I is always good to have a guide or at least a script for you to practice or follow when doing such as interviewing, so that you can avoid talking a bunch of non-sense stuff when asked \"Tell me more about yourself?\" or \"Where do you see yourself in 5 years?\"\n",
    "\n",
    "Therefore, to (at least try) to help everyone that wants to have a successful interview and conquer every opportunities for the next summer, I decided to use ChatGPT 4.0 to come up with what are according to him the most adequate answers to some of the most common interview questions out there. Also, so that ChatGPT 4.0 can be more precise, I provided him with the following contexts to answer the respective questions\n",
    "\n",
    "- Imagine that you are a computer science undergraduate student who is going to participate in a behavioral interview for a major tech company for a software development position.\n",
    "\n",
    "- Imagine that you are a finance undergraduate student who is going to participate in a behavioral interview for a major bank for an investment banking position.\n",
    "\n",
    "## Computer science student \n",
    "\n",
    "<strong> Question: Tell me about yourself. </strong>\n",
    "\n",
    "Answer: As a final-year computer science undergraduate, I've been passionate about technology and problem-solving from a young age. My academic journey has been enriched with hands-on projects and collaborative work, notably my capstone project where we developed a mobile app that leverages AI for real-time language translation, which honed my skills in Python and machine learning frameworks.\n",
    "\n",
    "I've completed two internships, one with a startup where I contributed to developing a feature for their platform using Java, which improved user engagement by 20%, and another with a mid-sized tech company where I was part of a team that optimized an internal tool, resulting in a 30% reduction in processing time.\n",
    "\n",
    "Outside of academics, I served as the vice-president of the computer science club, where I organized workshops and hackathons, fostering a community of learning and innovation.\n",
    "\n",
    "I'm drawn to this position at your company because of its commitment to creating impactful, user-centric software solutions, and I'm eager to bring my blend of academic knowledge, practical experience, and a collaborative spirit to your team.\n",
    "\n",
    "<strong> Question: Why did you apply to this position? </strong>\n",
    "\n",
    "Answer: I've always admired this company's commitment to innovation and its impact on the tech industry, particularly in [specific technology or product area]. Your culture of encouraging continuous learning and collaboration resonates deeply with my own professional values and aspirations.\n",
    "\n",
    "The position, as described, seems like a perfect match for my skills and experiences. I'm particularly excited about the opportunity to work on [specific project or technology mentioned in the job description], as I have a strong background in [relevant skill or technology] and have successfully implemented similar projects during my time at [university or previous job/internship].\n",
    "\n",
    "I am also drawn to the potential for professional growth. I am eager to deepen my expertise in [specific skill or technology relevant to the job] and contribute to groundbreaking projects that are known to be a hallmark of your company.\n",
    "\n",
    "Moreover, I believe my experience in [specific relevant experience], coupled with my passion for [specific aspect of the job or technology], would allow me to make a meaningful contribution to your team. I am particularly impressed by the company’s initiatives in [specific area, like sustainability, diversity, etc.], which aligns with my personal values and motivates me to want to be part of your organization.\n",
    "\n",
    "In summary, I see this position not just as an opportunity to contribute my skills and grow professionally but also as a chance to be part of a team that's shaping the future of technology in ways that align with my own aspirations and values.\n",
    "\n",
    "<strong> Question: Where do you see yourself in 5 years? </strong>\n",
    "\n",
    "Answer: In five years, I see myself as a more experienced software developer, having deepened my expertise in [specific technology or field, e.g., machine learning], which I am particularly passionate about. I aim to be at the forefront of innovative projects within this domain, contributing significant advancements or solutions that align with our company's goals and impact our users positively.\n",
    "\n",
    "I'm also keen on developing my leadership skills, with the hope of leading a small team or project. I believe in fostering a collaborative environment where team members feel valued and motivated to innovate, which aligns with the company's culture of empowering employees.\n",
    "\n",
    "Moreover, I see myself as a continuous learner, staying abreast of the latest technologies and methodologies in software development to ensure our team remains innovative and competitive. I am committed to not only growing my technical skills but also contributing to a positive and inclusive company culture that values diversity of thought and creativity.\n",
    "\n",
    "Ultimately, I aim to be a valuable asset to the company, not just through my technical contributions but also by mentoring junior developers, promoting a culture of continuous learning and innovation, and helping drive the company toward achieving its long-term objectives.\n",
    "\n",
    "## Finance student\n",
    "\n",
    "<strong>Question: Tell me about yourself. </strong>\n",
    "\n",
    "Answer: I'm currently in the final year of my finance degree at [University Name], where I've dedicated myself to not only excelling academically but also gaining practical experience that aligns with my career aspirations in investment banking. My interest in finance sparked in my first year when I took an introductory course on financial markets, and since then, I've been captivated by the intricacies of investment strategies and market dynamics.\n",
    "\n",
    "To complement my studies, I've engaged in a range of extracurricular activities, including leading a team in the university's investment club, where we manage a simulated stock portfolio. This experience has been instrumental in enhancing my analytical skills and my ability to work collaboratively under pressure.\n",
    "\n",
    "I've also completed internships at [Firm Name] and [Another Firm Name], where I was exposed to the fast-paced world of investment banking. These experiences allowed me to apply theoretical knowledge in real-world settings, working on projects that ranged from financial modeling to due diligence for M&A transactions. Through these roles, I developed a strong foundation in analyzing financial statements, understanding regulatory landscapes, and crafting strategic recommendations for clients.\n",
    "\n",
    "I am particularly drawn to [Bank's Name] because of its commitment to innovation and excellence in serving clients. I am excited about the opportunity to contribute my analytical skills, teamwork capabilities, and passion for finance to your team, and I'm eager to learn and grow in such a stimulating environment.\n",
    "\n",
    "<strong> Question: Why did you apply to this position? </strong>\n",
    "\n",
    "Answer: I applied for this investment banking position at [Bank's Name] for several compelling reasons. Firstly, my academic and internship experiences have solidified my passion for finance and investment banking. I've always been fascinated by how financial markets operate and the critical role investment banks play in facilitating major transactions, fostering economic growth, and helping organizations achieve their strategic goals. This position represents a unique opportunity to be at the forefront of such impactful work.\n",
    "\n",
    "Moreover, [Bank's Name] stands out to me because of its reputation for excellence, its innovative approach to solving financial challenges, and its commitment to developing young talent. Through my research and conversations with current and former employees, I've come to admire the firm's culture of collaboration, integrity, and its dedication to client success. These values resonate deeply with my own professional ethos and aspirations.\n",
    "\n",
    "Additionally, the breadth and depth of projects that [Bank's Name] undertakes mean I would be exposed to a wide range of learning opportunities and challenges. This aligns perfectly with my desire to continually grow and push the boundaries of my understanding of finance and strategic investment solutions.\n",
    "\n",
    "In essence, I see this position as the perfect alignment of my career aspirations, skills, and values with the mission and culture of [Bank's Name]. I am eager to contribute my analytical abilities, teamwork skills, and enthusiasm for finance to your esteemed team, and I am excited about the prospect of growing my career with [Bank's Name].\n",
    "\n",
    "<strong> Question: Where do you see yourself in 5 years? </strong>\n",
    "\n",
    "Answer: In five years, I envision myself having grown significantly within the field of investment banking, ideally progressing to an Associate or Vice President role within [Bank's Name], depending on the typical career trajectory here. By that time, I aim to have developed a robust understanding of the financial markets, honed my skills in financial modeling and client management, and contributed to a variety of successful deals across different sectors.\n",
    "\n",
    "I'm particularly interested in specializing in [choose a sector, e.g., technology, healthcare, renewable energy], given its [reason for interest, e.g., rapid innovation, societal impact, growth prospects]. I hope to leverage my deepened expertise to lead teams on high-profile transactions, driving strategic decisions and fostering long-term client relationships.\n",
    "\n",
    "Additionally, I see myself actively engaging in mentoring opportunities, sharing my knowledge and experiences with incoming analysts and interns. I believe in the value of mentorship for professional growth, having benefited from it myself during my early career stages.\n",
    "\n",
    "Ultimately, in five years, I aim to be recognized not only for my technical skills and deal-making capabilities but also for my leadership, teamwork, and contribution to the firm's culture and success.\n",
    "\n",
    "## Now, go crack that interview\n",
    "\n",
    "Hopefully, ChatGPT's answers can help you come up with answers and think about what to say in your job interview. Surely, do not copy exactly what he said, but use it to your advantage. "
   ]
  },
  {
   "cell_type": "markdown",
   "id": "0f185c75-dea4-4e1c-983e-978feba55956",
   "metadata": {},
   "source": [
    "**Thank you for reading!**"
   ]
  }
 ],
 "metadata": {
  "citation-manager": {
   "items": {}
  },
  "kernelspec": {
   "display_name": "Python 3.11 (COMM4190)",
   "language": "python",
   "name": "comm4190"
  },
  "language_info": {
   "codemirror_mode": {
    "name": "ipython",
    "version": 3
   },
   "file_extension": ".py",
   "mimetype": "text/x-python",
   "name": "python",
   "nbconvert_exporter": "python",
   "pygments_lexer": "ipython3",
   "version": "3.11.7"
  }
 },
 "nbformat": 4,
 "nbformat_minor": 5
}
