{
 "cells": [
  {
   "cell_type": "raw",
   "id": "ceb26b6d-d77d-4a43-8a72-f9758596005e",
   "metadata": {},
   "source": [
    "---\n",
    "title: \"Odds are not good if you are betting on ChatGPT\"\n",
    "description: \"An overview of ChatGPT unbiased view and security protocols\"\n",
    "author: \"Gabriel\"\n",
    "date: \"2/10/2024\"\n",
    "categories:\n",
    "  - LLMs\n",
    "  - Super Bowl\n",
    "  - Bets\n",
    "  - Security\n",
    "---"
   ]
  },
  {
   "cell_type": "markdown",
   "id": "47332d49-fa83-4376-8adc-4f924ec94c79",
   "metadata": {},
   "source": [
    "<img src=\"sb.png\" width=\"50%\"/>"
   ]
  },
  {
   "cell_type": "markdown",
   "id": "3351bb55-6aa3-488a-a6be-32297cdf2908",
   "metadata": {},
   "source": [
    "## A national holiday\n",
    "\n",
    "* This Sunday is a special date for most Americans who, like me, love football (in my case, the true one, a.k.a soccer for you citizens of the US): the Super Bowl. At 6:30 pm on February 11th, the Kansas City Chiefs and the San Francisco 49ers will compete for the title of the Super Bowl, perhaps the most sought-after title in every sport, in Las Vegas, a controversial place that raises the debate of something that has been disturbing the world of sports worldwide: betting.\n",
    "\n",
    "* The rise of online casinos and betting platforms has generated a massive increase in the number of individual gamblers who want to try their luck in whatever game they desire to bet on.  \n"
   ]
  },
  {
   "cell_type": "markdown",
   "id": "e9d7e97a-f92e-411d-8c62-1608d7820af7",
   "metadata": {},
   "source": [
    "### What does it have to do with ChatGPT?\n",
    "\n",
    "I'm not going to lie, but for some people, betting on sports has nothing to do with ChatGPT. Nevertheless, while using this phenomenal LLM, a doubt came across my mind: what if I asked for gambling suggestions from ChatGPT? Do not blame; the thing is basically a super brain with almost unlimited access to data; its opinion must be valid. \n",
    "\n",
    "Therefore, I tried to ask ChatGPT 4.0 what team I should bet on for the Super Bowl. You can see the prompt below.\n",
    "\n",
    "<img src=\"gpt1.png\" width=\"50%\"/>\n",
    "<img src=\"gpt2.png\" width=\"50%\"/>\n",
    "<img src=\"gpt3.png\" width=\"50%\"/>\n"
   ]
  },
  {
   "cell_type": "markdown",
   "id": "28b4f8ce-0eb8-47b7-ab32-026a9efd5f34",
   "metadata": {},
   "source": [
    "### The point that I was trying to bring up with all of this\n",
    "\n",
    "* After reading GPT's response, you probably had the same impressions as me: yep, it was a pretty standard response. Indeed, that is what I was actually expecting from the LLM, which was basically statistical data scrapped from the web with a touch of information as well. Overall, it is a satisfactory one. However, there is one thing for me that is truly interesting: there is not even a single word that indicates bias or a recommendation to pick a specific team. On the one hand, people might think that it was because ChatGPT is not able to conclude things logically. However, if you ask ChatGPT 4.0 complex Calculus II questions (as I have already done) it will have no problem in gathering the information processed/obtained and presenting a logical conclusion. However, despite of having the data that concluded the likelihood of both teams to win, it **did not even indicate what team would be the best to bet on**.\n",
    "\n",
    "* And no, ChatGPT 4.0 is not getting \"less intelligent\" or its programmers. In fact, I guess that the developers are, in fact, getting smarter. The reason why is that OpenAI is deeply focusing its recent efforts on **making sure that ChatGPT makes ethical and correct decisions**.\n",
    "\n",
    "* Now that it has an optimized LLM with billions, perhaps trillions of parameters, OpenAI is trying to make sure, through a process of continuous tests and debugs, that GPT does not produce answers that can be offensive or detrimental to someone, as in a case of gambling. Instead of adding new information, the programmers are restraining certain parameters and adding safety measures such that any harm to users is avoided. Therefore, if you are trying to take advantage of ChatGPT's answers, well, something illegal might not be the way to go, and, honestly, I think that with upcoming regulatory decisions and limitations and the establishment of safety measures, this will be the dictating trend for the future of AI."
   ]
  },
  {
   "cell_type": "markdown",
   "id": "90cb0821-1a4a-4b19-b8bf-f4004f1e4b9f",
   "metadata": {},
   "source": [
    "**Thank you for reading!**"
   ]
  }
 ],
 "metadata": {
  "citation-manager": {
   "items": {}
  },
  "kernelspec": {
   "display_name": "Python 3.11 (COMM4190)",
   "language": "python",
   "name": "comm4190"
  },
  "language_info": {
   "codemirror_mode": {
    "name": "ipython",
    "version": 3
   },
   "file_extension": ".py",
   "mimetype": "text/x-python",
   "name": "python",
   "nbconvert_exporter": "python",
   "pygments_lexer": "ipython3",
   "version": "3.11.7"
  }
 },
 "nbformat": 4,
 "nbformat_minor": 5
}
