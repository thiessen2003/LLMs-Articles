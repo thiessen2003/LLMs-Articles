{
 "cells": [
  {
   "cell_type": "raw",
   "id": "ceb26b6d-d77d-4a43-8a72-f9758596005e",
   "metadata": {},
   "source": [
    "---\n",
    "title: \"ChatGPT, do you get it?\"\n",
    "description: \"Evaluating ChatGPT's abilities to analyze political cartoons\"\n",
    "author: \"Gabriel Thiessen\"\n",
    "date: \"3/23/2024\"\n",
    "categories:\n",
    "  - LLMs\n",
    "  - ChatGPT 4.0\n",
    "  - Cartoons\n",
    "---"
   ]
  },
  {
   "cell_type": "markdown",
   "id": "2a71c0d0-759c-45ff-a3c4-e7a16f2a0339",
   "metadata": {},
   "source": [
    "<img src=\"gptanalyzing.png\" width=\"100%\"/>\n",
    "Prompt: Generate an image of ChatGPT analyzing political cartoons "
   ]
  },
  {
   "cell_type": "markdown",
   "id": "301cf3c8-8d93-4fcb-bc7f-d09fe749bae1",
   "metadata": {},
   "source": [
    "## Cartoons and Portuguese tests \n",
    "\n",
    "These past few days, while I was helping my brother with one of his Portuguese assignments through FaceTime, I started thinking about a great part of high school years: political cartoons. I am not quite sure if it is something that only happens in Brazil, but every single Portuguese test that I took in high school had at least one text interpretation question related to analyzing and interpreting cartoons. In fact, most of my History and Geography classes had this same type of analytical question in some certain way. Fundamentally, my fellow classmates and I were given in a test a political cartoon on a topic, and we had to evaluate what the author was trying to say, criticize, or make a point about. \n",
    "\n",
    "Even though some of them seemed quite silly or superficial, most of the cartoons that I had to analyze during tests talked about some important historical events, societal issues, or political movements. For us humans, identifying the subtlety of such texts is usually not that easy: most of the time, they require previous knowledge of a specific event or topic alongside employing rational thinking and identifying aspects such as sarcasm and humor. Also, what we are trying to understand when reading a political cartoon goes way beyond the objective information displayed; it is much more related to subjective aspects that are not directly related to the text being read. That is probably why I have always been kind of fascinated by this specific communication venue and liked these questions on my exams.\n",
    "\n",
    "## What about ChatGPT?\n",
    "\n",
    "As most of you are probably aware, ChatGPT is really powerful. It is probably one of the most advanced LLMs that we have, especially the 4.0. However, features such as analyzing visual data, generating images, and interpreting photos are quite recent and, thus, not as well developed. For instance, when you ask ChatGPT 4.0 about its ability to process texts and data, it states that it was trained on written data. And indeed, if you ever tried to develop a prompt somehow related to generating or interpreting an image, you probably noticed that ChatGPT accuracy simply disappears. \n",
    "\n",
    "Thus, I caught myself thinking about how ChatGPT would perform when asked to analyze political cartoons. Thus, let's check some examples to see if this beloved LLM is indeed a good option for evaluating your Mafalda cartoons for your tests. \n",
    "\n",
    "## Cartoon 1 \n",
    "\n",
    "<img src=\"vietnam.png\" width=\"50%\"/>\n",
    "\n",
    "The cartoon in question was developed by Toni Auth in 1991. Auth is an award-winning political cartoonist who dedicated most of his career as a cartoonist drawing images and coming up with ideas of cartoons that focused on criticizing the treatment that American war veterans receive and the lack of support that the government and society as a whole offer to them, in spite of sacrificing parts of their lives for their country. Thus, this cartoon in question focuses on addressing a sort of pseudo-patriotism that is common to multiple Americans; meanwhile, they idolize USA leaders and openly display their utmost love for the nation; they often leave those who physically fought for the country marginalized and forgotten. Quite straightforward, but let's check what ChatGPT has to say. \n",
    "\n",
    "<img src=\"analysis1.png\" width=\"50%\"/> \n",
    "\n",
    "As it is possible to see, ChatGPT did a great job, in fact, probably better than me...\n",
    "\n",
    "## Cartoon 2 \n",
    "\n",
    "<img src=\"tree.jpg\" width=\"50%\"/>\n",
    "\n",
    "This cartoon has a different focus than the previous one. In this case, this political cartoon focuses on addressing as its main topic global warming, which has severely increased during the previous years, and, especially, the ineffective policies and measures being implemented to attempt to solve this issue, which, in comparison to the magnitude of the issue that we are witnessing, are surely minor and not enough. \n",
    "\n",
    "<img src=\"planttree.png\" width=\"50%\"/> \n",
    "\n",
    "Once again, ChatGPT did a great job evaluating the image.\n",
    "\n",
    "## It did not work that well...  \n",
    "\n",
    "Considering the questions that ChatGPT provided, to my surprise, it is possible to conclude that not only is ChatGPT a great mathematician and developer, but its most recent version performs fairly well in processing and evaluating images such as political cartoons. Honestly, this comes as a great surprise to me, as I am sort of skeptical with regard to ChatGPT's skills to process and analyze images. However, it is quite interesting to see that it can evaluate intricate aspects of an image, such as social criticism, humor, and even sarcasm, just like a human being would do. On the one hand, it is quite interesting to witness such an evolution in ChatGPT's abilities and scope. But at the same time, it is definitely worrying to see the fast and uncontrolled advances in ChatGPT's human-like skills. "
   ]
  },
  {
   "cell_type": "markdown",
   "id": "0f185c75-dea4-4e1c-983e-978feba55956",
   "metadata": {},
   "source": [
    "**Thank you for reading!**"
   ]
  }
 ],
 "metadata": {
  "citation-manager": {
   "items": {}
  },
  "kernelspec": {
   "display_name": "Python 3.11 (COMM4190)",
   "language": "python",
   "name": "comm4190"
  },
  "language_info": {
   "codemirror_mode": {
    "name": "ipython",
    "version": 3
   },
   "file_extension": ".py",
   "mimetype": "text/x-python",
   "name": "python",
   "nbconvert_exporter": "python",
   "pygments_lexer": "ipython3",
   "version": "3.11.7"
  }
 },
 "nbformat": 4,
 "nbformat_minor": 5
}
