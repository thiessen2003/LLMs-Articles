{
 "cells": [
  {
   "cell_type": "raw",
   "id": "ceb26b6d-d77d-4a43-8a72-f9758596005e",
   "metadata": {},
   "source": [
    "---\n",
    "title: \"Change in parameters and financial markets\"\n",
    "description: \"How ChatGPT 4 recent update reflects on its answers to some prompts \"\n",
    "author: \"Gabriel Thiessen\"\n",
    "date: \"2/10/2024\"\n",
    "categories:\n",
    "  - LLMs\n",
    "  - ChatGPT\n",
    "  - update \n",
    "  - 3.5 vs 4.0\n",
    "---"
   ]
  },
  {
   "cell_type": "markdown",
   "id": "2a71c0d0-759c-45ff-a3c4-e7a16f2a0339",
   "metadata": {},
   "source": [
    "<img src=\"mainFight.png\" width=\"50%\"/>"
   ]
  },
  {
   "cell_type": "markdown",
   "id": "301cf3c8-8d93-4fcb-bc7f-d09fe749bae1",
   "metadata": {},
   "source": [
    "## How do LLMs and their answers change with time?\n",
    "\n",
    "During one of my COMM 4190 class' in-class activities, I came across a situation that raised this doubt in my head. The activity in particular was focused on making the LLM of your choice come up with an idea for a product, as well as its name and descritpion. Initially, I used ChatGPT 4 to provide me with some ideas of businesses that would be interesting and attractive for customers. \n",
    "\n",
    "* This is what ChatGPT 4 generated\n",
    "\n",
    "> Eco-Friendly Packaging Solutions: Develop a range of biodegradable and compostable packaging products for businesses in the food, beverage, and retail sectors, aiming to reduce plastic waste and carbon footprint.\n",
    "\n",
    "> Telehealth Services for Mental Health: Create an online platform that provides accessible, affordable, and confidential mental health services, including therapy sessions, mental wellness tools, and community support, especially targeting remote areas with limited access to such services.\n",
    "\n",
    "> Smart Home Integration Systems: Develop a comprehensive smart home system that seamlessly integrates various smart devices and appliances, offering enhanced convenience, energy efficiency, and security through a single, user-friendly interface.\n",
    "\n",
    "> Subscription-Based Meal Prep Kits for Special Diets: Offer a subscription service that delivers weekly meal prep kits catering to specific dietary needs such as vegan, keto, gluten-free, etc., focusing on healthy, organic ingredients and sustainable packaging.\n",
    "\n",
    "> AI-Powered Educational Tools for Personalized Learning: Create an AI-driven platform that offers personalized learning experiences for students, adapting to their learning pace, style, and interests, and providing real-time feedback to enhance their educational journey.\n",
    "\n",
    "> Virtual Reality Experiences for Remote Tourism: Develop virtual reality packages that allow users to experience travel and cultural tours from the comfort of their homes, targeting travel enthusiasts unable to travel due to health, financial, or other constraints.\n",
    "\n",
    "> Renewable Energy Solutions for Small Businesses: Offer consultancy and implementation services for small and medium-sized enterprises (SMEs) to transition to renewable energy sources, including solar, wind, and biomass, reducing their energy costs and environmental impact.\n",
    "\n",
    "> Wearable Health Monitoring Devices: Design and manufacture wearable devices that monitor vital health metrics in real-time, such as heart rate, blood pressure, and glucose levels, catering to individuals with chronic conditions or those seeking to maintain a healthy lifestyle.\n",
    "\n",
    "> Blockchain-Based Supply Chain Management Platform: Create a blockchain platform that enhances transparency, efficiency, and security in supply chains, allowing businesses to track products from origin to consumer, reducing fraud, and ensuring ethical practices.\n",
    "\n",
    "> Sustainable Urban Farming Solutions: Develop innovative urban farming solutions, such as vertical farms or hydroponic systems, that enable city dwellers to grow fresh produce efficiently, promoting local food production and sustainability.\n",
    "\n",
    "* Some nice business ideas, right? Now, this is what GPT 3.5 generated\n",
    "\n",
    "> Virtual Event Management Platform: Develop a comprehensive platform that enables businesses and organizations to plan, manage, and host virtual events such as conferences, trade shows, and webinars. Offer features like customizable event spaces, attendee engagement tools, and analytics.\n",
    "\n",
    "> Eco-Friendly Packaging Solutions: Create a company that specializes in producing sustainable and biodegradable packaging materials for businesses looking to reduce their environmental footprint. Offer customizable solutions for various industries, including food and beverage, cosmetics, and e-commerce.\n",
    "\n",
    "> Remote Work Productivity Tools: Develop software tools designed to enhance productivity and collaboration for remote teams. This could include project management platforms, communication tools, and virtual team-building solutions tailored to the needs of distributed workforces.\n",
    "\n",
    "> Personalized Health and Wellness Plans: Launch a service that provides personalized health and wellness plans based on individual needs, preferences, and goals. Offer features such as virtual consultations with nutritionists, fitness trainers, and wellness coaches, along with customized meal plans and exercise routines.\n",
    "\n",
    "> Renewable Energy Consultancy: Start a consultancy firm specializing in renewable energy solutions for businesses and organizations seeking to transition to sustainable energy sources. Provide services such as energy audits, feasibility studies, and implementation strategies for solar, wind, and other renewable energy technologies.\n",
    "\n",
    "> Tech-Empowered Elderly Care Services: Create a business that leverages technology to provide innovative elderly care services, such as remote health monitoring systems, medication management apps, and virtual caregiver support networks. Focus on improving quality of life and promoting independence for seniors.\n",
    "\n",
    "> Subscription Box for Sustainable Living: Curate and deliver subscription boxes filled with eco-friendly products and sustainable lifestyle items, such as organic skincare products, reusable household goods, and ethically sourced clothing. Offer monthly or quarterly subscription plans with customizable options.\n",
    "\n",
    "> Online Learning Platform for Skilled Trades: Develop an online learning platform that offers courses and certification programs for skilled trades such as plumbing, electrical work, carpentry, and HVAC repair. Provide high-quality instructional content, interactive simulations, and hands-on training modules.\n",
    "\n",
    "> Smart Home Installation and Integration Services: Launch a company that specializes in installing and integrating smart home devices and systems, such as smart thermostats, security cameras, lighting controls, and home automation hubs. Offer consultation, installation, and maintenance services to homeowners and businesses.\n",
    "\n",
    "> Virtual Interior Design Consultancy: Provide virtual interior design services for residential and commercial clients, offering personalized design consultations, mood boards, and 3D renderings. Utilize technology such as augmented reality (AR) to allow clients to visualize design concepts in their own spaces."
   ]
  },
  {
   "cell_type": "markdown",
   "id": "e9d7e97a-f92e-411d-8c62-1608d7820af7",
   "metadata": {},
   "source": [
    "### Ok, so what?\n",
    "\n",
    "On a first look, it seems that both the answers are fundamentally the same. However, there is one specific subtlety that makes this whole comparison really interesting. If you take a closer look, it is possible to see that ChatGPT 3.5 mentions on some of his answers business ideas that are related to the use of virtual reality. However, there is no reference to AI-related businesses. Meanwhile, ChatGPT 4.0 included as some of its business ideas **AI-Powered Educational Tools for Personalized Learning**. Even though it is a minor change, I truly believe that this is a really interesting way to analyze how updates on ChatGPT parameters reflects on their answers. "
   ]
  },
  {
   "cell_type": "markdown",
   "id": "28b4f8ce-0eb8-47b7-ab32-026a9efd5f34",
   "metadata": {},
   "source": [
    "### Recent updates\n",
    "\n",
    "To clarify my point, it is worth mentioning that the last update on ChatGPT 3.5 happened in January 2022 (reported by the AI tool itself). However, ChatGPT 4.0 includes data up to April 2023. Back in January 2022, AI was not a big topic when it came to business ideas, as we werer still focusing on the Metaverse and blockchain. In between these two dates though, we witnessed and abnormal grow in the use and popularity of AI tools for the most varied topics, ranging from education to business. Therefor , it is anturally reflected on the answers that this LLM provides. Pretty cool, right? "
   ]
  },
  {
   "cell_type": "markdown",
   "id": "0f185c75-dea4-4e1c-983e-978feba55956",
   "metadata": {},
   "source": [
    "**Thank you for reading!**"
   ]
  }
 ],
 "metadata": {
  "citation-manager": {
   "items": {}
  },
  "kernelspec": {
   "display_name": "Python 3.11 (COMM4190)",
   "language": "python",
   "name": "comm4190"
  },
  "language_info": {
   "codemirror_mode": {
    "name": "ipython",
    "version": 3
   },
   "file_extension": ".py",
   "mimetype": "text/x-python",
   "name": "python",
   "nbconvert_exporter": "python",
   "pygments_lexer": "ipython3",
   "version": "3.11.7"
  }
 },
 "nbformat": 4,
 "nbformat_minor": 5
}
