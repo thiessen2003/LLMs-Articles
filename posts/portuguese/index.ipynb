{
 "cells": [
  {
   "cell_type": "raw",
   "id": "ceb26b6d-d77d-4a43-8a72-f9758596005e",
   "metadata": {},
   "source": [
    "---\n",
    "title: \"Portuguese to English, English to Portuguese.\"\n",
    "description: \"Comparing how ChatGPT's answers vary according to prompts in different languages.\"\n",
    "author: \"Gabriel Thiessen\"\n",
    "date: \"03/02/2024\"\n",
    "categories:\n",
    "  - LLMs\n",
    "  - ChatGPT\n",
    "  - LLama\n",
    "  - Google Gemini\n",
    "---"
   ]
  },
  {
   "cell_type": "markdown",
   "id": "2a71c0d0-759c-45ff-a3c4-e7a16f2a0339",
   "metadata": {},
   "source": [
    "<img src=\"portuguese.png\" width=\"100%\"/>\n",
    "Prompt: Generate an image of ChatGPT trying to speak Portuguese and English."
   ]
  },
  {
   "cell_type": "markdown",
   "id": "301cf3c8-8d93-4fcb-bc7f-d09fe749bae1",
   "metadata": {},
   "source": [
    "## Is ChatGPT polyglot? Or at least, does he interpret all the languages the same? \n",
    "\n",
    "As a non-native English speaker, I often feel that my brain is just an inner turmoil of different languages: I read texts in English and listen to my professors lecturing in English but think in Portuguese, sometimes in English. Honestly, it is not easy, but I feel that I am gradually getting used to it and processing my thoughts mostly in English in a really natural and, from a logical and grammatical standpoint, correct way. I mean, when reading or listening to something in English, fundamentally no meaning or important information is lost in meanwhile I process such information. However, it took me years of learning the language to be able to do it so, and lots of help from the magical complexity of the human brain, and its capabilities such as as neuroplasticity and ability to make logical correlations and inferences in a matter of milliseconds. \n",
    "\n",
    "So, after wondering about how I actually deal with thinking in two languages at the same time, I caught myself intrigued: is ChatGPT able to do it? \n"
   ]
  },
  {
   "cell_type": "markdown",
   "id": "e9d7e97a-f92e-411d-8c62-1608d7820af7",
   "metadata": {},
   "source": [
    "### \"Of course ChatGPT can!\" \n",
    "\n",
    "Well, yes, ChatGPT is for sure able to do it. In fact, if you ask ChatGPT what languages he can interpret, this is his answer.\n",
    "\n",
    "<img src=\"chatgptlanguages.png\" width=\"50%\">\n",
    "\n",
    "Considering that ChatGPT is an LLM with approximately 175 billion parameters, it was quite expected that ChatGPT would be polyglot. But I really want to show with this article is to what extense. In this case, I will evaluate whether ChatGPT 4 can generate the same answer to equal prompts but in three different contexts: asking in English, asking in Portuguese, and writing a prompt in English but asking ChatGPT to answer it in Portuguese (additionally, I will check this different cases in distinct browser windows, to avoid ChatGPT to be based on previous prompts). Also, the question will be, \"Can you explain to me what an LLM is?\" Therefore, let's go to prompting! "
   ]
  },
  {
   "cell_type": "markdown",
   "id": "02d4c9db-7b89-4e7b-a4a9-c3ab4801ca5a",
   "metadata": {},
   "source": [
    "### \"Can you explain to me what an LLM is?\"\n",
    "\n",
    "Firstly, let's analyze how ChatGPT answers this question in English.\n",
    "\n",
    "<img src=\"ingles.png\" width=\"50%\"/>\n",
    "\n",
    "Now, let's check how ChatGPT answers the question in Portuguese \n",
    "\n",
    "<img src=\"port.png\" width=\"50%\"/>\n",
    "\n",
    "\n",
    "Finally, let's see how ChatGPT performs when mixing the two languages. \n",
    "\n",
    "<img src=\"ingport.png\" width=\"50%\"/>\n",
    "\n",
    "Ummm, interesting...\n"
   ]
  },
  {
   "cell_type": "markdown",
   "id": "62b8b78f-ab56-4f91-831b-b42b5bbe9fba",
   "metadata": {},
   "source": [
    "### Conclusion  \n",
    "\n",
    "Well, you don't have to be a polyglot, be a communication wizard, or fluently speak both Portuguese and English to realize that, yes, its answers vary based on the prompt and the language that you used to make the prompt. In the case of pure English, ChatGPT seemed to provide a really straightforward and correct answer. Also, unlike the response in Portuguese, it goes on to briefly explain some of the technical concepts related to the field, as well as what the acronym stands for. Meanwhile, in Portuguese, ChatGPT seems to provide an answer that is way more developed, with bulletproofs, key concepts, and introductory, development, and conclusive parts to the answer. Still, in both cases ChatGPT generated answers that are quite similar, but slightly vary on the way they were presented and how concepts were explained, such as transformers and training. But, when it comes to the last case, which consisted of asking ChatGPT in English to provide an answer in Portuguese, then we it was possible to witness a major difference. Unlike the previous cases, this time, ChatGPT generate a way less technical explanation, barely went through the most important aspects of LLMs, and, just by visualizing the size of the answer, one can tell that it not even close to being as complete as the previous ones.\n",
    "\n",
    "It is difficult, though, to understand why such a significant discrepancy occurred. Usually, when I ask ChatGPT to translate words from Portuguese to English, it does quite a good job. However, my guess to why this happens is that OpenAI is perhaps not really focused on training ChatGPT to intercalate languages in its prompts, as it something quite not \"natural\" to be asked. While the reason for this might still be a little uncertain, I believe that I can rest in knowing that my overwhelmed brain processing Portuguese and English is still a little bit ahead of ChatGPT information processing capacity. At least for now..."
   ]
  },
  {
   "cell_type": "markdown",
   "id": "0f185c75-dea4-4e1c-983e-978feba55956",
   "metadata": {},
   "source": [
    "**Thank you for reading!**"
   ]
  },
  {
   "cell_type": "code",
   "execution_count": null,
   "id": "add2e1b9-8b94-4349-8a40-d5c6b841a47a",
   "metadata": {},
   "outputs": [],
   "source": []
  }
 ],
 "metadata": {
  "citation-manager": {
   "items": {}
  },
  "kernelspec": {
   "display_name": "Python 3.11 (COMM4190)",
   "language": "python",
   "name": "comm4190"
  },
  "language_info": {
   "codemirror_mode": {
    "name": "ipython",
    "version": 3
   },
   "file_extension": ".py",
   "mimetype": "text/x-python",
   "name": "python",
   "nbconvert_exporter": "python",
   "pygments_lexer": "ipython3",
   "version": "3.11.7"
  }
 },
 "nbformat": 4,
 "nbformat_minor": 5
}
