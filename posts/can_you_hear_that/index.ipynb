{
 "cells": [
  {
   "cell_type": "raw",
   "id": "ceb26b6d-d77d-4a43-8a72-f9758596005e",
   "metadata": {},
   "source": [
    "---\n",
    "title: \"Can you hear that?\"\n",
    "description: \"Creating songs with Suno AI, a new generative AI tool.\"\n",
    "author: \"Gabriel Thiessen\"\n",
    "date: \"3/23/2024\"\n",
    "categories:\n",
    "  - LLMs\n",
    "  - ChatGPT 4.0\n",
    "  - Interview\n",
    "  - Text generation\n",
    "---"
   ]
  },
  {
   "cell_type": "markdown",
   "id": "2a71c0d0-759c-45ff-a3c4-e7a16f2a0339",
   "metadata": {},
   "source": [
    "<img src=\"chatgptsinging.png\" width=\"100%\"/>\n",
    "Prompt: Generate an image of ChatGPT taking an IQ test \n",
    "\n"
   ]
  },
  {
   "cell_type": "markdown",
   "id": "301cf3c8-8d93-4fcb-bc7f-d09fe749bae1",
   "metadata": {},
   "source": [
    "## \"And the Grammy award of best generative AI goes to Suno AI!\"\n",
    "\n",
    "Are you a fan of jazz, rock, samba, or any music genre? Have you ever tried to come up with a song by yourself? Do you often use ChatGPT? \n",
    "\n",
    "If your answer to all of these questions is yes, I will probably assume that, at least once, you tried to create a song idea or simply lyrics on ChatGPT (if not, just stick around because this is an interesting article either way). Well, you might have noticed that ChatGPT is not that good at doing such a task, mainly because ChatGPT generates, fundamentally, just text and images, not audio files. However, there is a new generative AI tool out there that is definitely changing the reality of songwriters and enthusiasts who want to combine the word of music and AI: Suno AI. \n",
    "\n",
    "# What is Suno AI?\n",
    "\n",
    "Suno AI is a tech company focused on developing a generative AI model that can successfully write song lyrics as well as audio files for whatever prompt you pass to it. Even though it has been around for quite a while in the world of AI (aka, 2023), Suno AI has recently gone viral because of the launching of its new version, Suno AI v.3. It basically optimizes certain features and its UI, which is quite impressive. \n",
    "\n",
    "\n",
    "Thus, to test how it works, I decided to combine ChatGPT and Suno AI to come up with a song idea that tests Suno AI's capabilities. \n",
    "\n",
    "<img src=\"sunoinitialpage.png\" width=\"50%\"/>s\n",
    "\n",
    "## Creating a song\n",
    "\n",
    "Firstly, I decided to ask ChatGPT for an idea for a song. This is what it generated. \n",
    "\n",
    "<img src=\"songpromptgpt.png\" width=\"50%\"/>\n",
    "\n",
    "\n",
    "Therefore, I plugged the song idea that ChatGPT generated into Suno's input box. After some seconds, Suno was able to generate the song lyrics, which are demonstrated below. \n",
    "\n",
    "<strong>[Verse 1]</strong>\n",
    "Morning's rush, the city's hum\n",
    "A symphony of lives undone (oh-oh-oh)\n",
    "But amidst the chaos, I find my way\n",
    "To a quiet place where I can stay (stay, stay, stay)\n",
    "\n",
    "<strong>[Verse 2]</strong>\n",
    "Screens flash with news that never cease\n",
    "Endless scrolling, minds deceived (oh-oh-oh)\n",
    "But I close my eyes, shut out the noise\n",
    "Seeking solace in stillness, I rejoice (rejoice, rejoice, rejoice)\n",
    "\n",
    "<strong>[Chorus]</strong>\n",
    "In this world so full of strife\n",
    "I've found the stillness in my life (ooh-yeah)\n",
    "Peace resides in every breath I take\n",
    "I've found my center, I've found my way (oh-oh-oh)\n",
    "\n",
    "Additionally, Suno also generates the song file itself, which can be accessed by the link: https://app.suno.ai/song/8f80f3c1-0fcd-4d21-b5b7-60e445f5b9b8\n",
    "\n",
    "## The paradise of music and AI\n",
    "\n",
    "Honestly, I am not quite sure if this is the best song that I have listened to, but, it is more than clear that what Suno AI is able to develop is beyond impressive. So, go test it out and enjoy it. "
   ]
  },
  {
   "cell_type": "markdown",
   "id": "0f185c75-dea4-4e1c-983e-978feba55956",
   "metadata": {},
   "source": [
    "**Thank you for reading!**"
   ]
  }
 ],
 "metadata": {
  "citation-manager": {
   "items": {}
  },
  "kernelspec": {
   "display_name": "Python 3.11 (COMM4190)",
   "language": "python",
   "name": "comm4190"
  },
  "language_info": {
   "codemirror_mode": {
    "name": "ipython",
    "version": 3
   },
   "file_extension": ".py",
   "mimetype": "text/x-python",
   "name": "python",
   "nbconvert_exporter": "python",
   "pygments_lexer": "ipython3",
   "version": "3.11.7"
  }
 },
 "nbformat": 4,
 "nbformat_minor": 5
}
